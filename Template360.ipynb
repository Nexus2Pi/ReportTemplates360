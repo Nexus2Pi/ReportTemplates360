{
 "cells": [
  {
   "cell_type": "code",
   "execution_count": null,
   "metadata": {},
   "outputs": [],
   "source": [
    "  import re\n",
    "  def changeCode(string): # Returns N360 converted code\n",
    "    rep = { # define desired replacements in this dictionary (mapping)\n",
    "         '[@1,1]'  : '[@9999,N,GetPatientValue,lastname],[@9999,N,GetPatientValue,firstname]',\n",
    "         '[@3]'    : '[@9999,N,GetPatientValue,dateOfBirth]',\n",
    "         '[@4]'    : '[@9999,N,GetPatientValue,sex]',\n",
    "         '[@5]'    : '[@9999,N,GetStudyWeight,2]',                  # Weight (Lb) 1-kg\n",
    "         '[@6]'    : '[@9999,N,GetStudyHeight,2]',                  # Height (Feet & In) 0-cm, 1-in\n",
    "         '[@7]'    : '[@9999,N,GetSleepStudy,BMI]',                 # BMI\n",
    "         '[@8]'    : '[@9999,N,GetPatientValue,maritalStatus]',     \n",
    "         '[@9]'    : '[@9999,N,GetPatientValue,occupation]',        \n",
    "         #10-29    : address, zip code, guardian etc..\n",
    "         '[@30]'   : '[@9999,N,GetStudyNeckSize,1]',                # neck size in 0-cm   \n",
    "         '[@50]'   : '[@9999,N,F8,studyStartTime]',             #Study start date\n",
    "         #page 72 of PSG IDs for details\n",
    "         #LMS codes\n",
    "         #the last name and first name will remain after the swap\n",
    "         '@99,ServiceDetails,GetReferringPhysicianValue'   :    '@9999,N,GetReferringPhysicianValue',\n",
    "         # staff roles are not equivalent (technician vs technologist, scoring tech vs scoring tech 2, etc...)\n",
    "         '[@99,ServiceDetails,GetMedicationNamesList]'     :    '[@9999,N,GetMedicationList]'\n",
    "        }\n",
    "    # use these two lines to do the replacement (could be shortened to one line)\n",
    "    pattern = re.compile(\"|\".join(map(re.escape,rep.keys()))) # Create single pattern object (key to simultaneous replacement)\n",
    "    new_string = pattern.sub(lambda match: rep[match.group(0)], string)\n",
    "    return new_string"
   ]
  },
  {
   "cell_type": "code",
   "execution_count": null,
   "metadata": {},
   "outputs": [],
   "source": [
    "def convertFile(fileIn):\n",
    "    fileInput = open(fileIn, \"r\")\n",
    "    outputfileName = fileIn.replace(\".rtf\", \"-N360.rtf\")\n",
    "    fileOutput = open(outputfileName,\"a\")\n",
    "    for line in fileInput.readlines():\n",
    "        fileOutput.write(changeCode(line))\n",
    "    fileInput.close()\n",
    "    fileOutput.close()\n",
    "    print(f\"converted to {outputfileName}\")    "
   ]
  },
  {
   "cell_type": "code",
   "execution_count": null,
   "metadata": {},
   "outputs": [],
   "source": [
    "import os\n",
    "for file in os.listdir():\n",
    "    if file.lower().endswith('.rtf'):\n",
    "        print(file)\n",
    "        convertFile(file)"
   ]
  }
 ],
 "metadata": {
  "kernelspec": {
   "display_name": "Python 3",
   "language": "python",
   "name": "python3"
  },
  "language_info": {
   "codemirror_mode": {
    "name": "ipython",
    "version": 3
   },
   "file_extension": ".py",
   "mimetype": "text/x-python",
   "name": "python",
   "nbconvert_exporter": "python",
   "pygments_lexer": "ipython3",
   "version": "3.8.5"
  }
 },
 "nbformat": 4,
 "nbformat_minor": 4
}
